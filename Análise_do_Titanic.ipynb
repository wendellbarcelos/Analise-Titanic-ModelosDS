{
 "cells": [
  {
   "cell_type": "markdown",
   "id": "63baa6ef",
   "metadata": {},
   "source": [
    "# Titanic - Machine Learning from Disaster\n",
    "\n",
    "<img src=\"https://storage.googleapis.com/kaggle-competitions/kaggle/3136/logos/header.png\" width=900>\n",
    "\n",
    "- Vamos utilizar os [dados disponíveis no Kaggle](https://www.kaggle.com/competitions/titanic)\n",
    "    - É um dataset de **competição**\n",
    "    - O resultado é avaliado através da **acurácia**:\n",
    "        - _\"Sua pontuação é a porcentagem de passageiros que você prevê corretamente. Isso é conhecido como acurácia.\"_"
   ]
  },
  {
   "cell_type": "markdown",
   "id": "0c68fded",
   "metadata": {},
   "source": [
    "### Começando a entender a base"
   ]
  },
  {
   "cell_type": "markdown",
   "id": "dd058abc",
   "metadata": {},
   "source": [
    "- **Podemos utilizar o ydata-profiling (antigo Pandas Profiling) para começar a entender essa base**\n",
    "    - https://github.com/ydataai/ydata-profiling"
   ]
  },
  {
   "cell_type": "code",
   "execution_count": null,
   "id": "ca06f81f",
   "metadata": {},
   "outputs": [],
   "source": [
    "# Importando o pandas"
   ]
  },
  {
   "cell_type": "code",
   "execution_count": null,
   "id": "3340d81a",
   "metadata": {},
   "outputs": [],
   "source": [
    "# Visualizando a base de treino"
   ]
  },
  {
   "cell_type": "code",
   "execution_count": null,
   "id": "038f93dd",
   "metadata": {},
   "outputs": [],
   "source": [
    "# Importando o ProfileReport do ydata-profiling"
   ]
  },
  {
   "cell_type": "code",
   "execution_count": null,
   "id": "c3ddf6be",
   "metadata": {},
   "outputs": [],
   "source": [
    "# Gerando a visualização"
   ]
  },
  {
   "cell_type": "code",
   "execution_count": null,
   "id": "e5572df9",
   "metadata": {},
   "outputs": [],
   "source": [
    "# Criando o relatório"
   ]
  },
  {
   "cell_type": "markdown",
   "id": "f3be84d2",
   "metadata": {},
   "source": [
    "- **Agora vamos analisar essa base**"
   ]
  },
  {
   "cell_type": "code",
   "execution_count": null,
   "id": "bc6de0a9",
   "metadata": {},
   "outputs": [],
   "source": [
    "# Verificando as informações da base"
   ]
  },
  {
   "cell_type": "code",
   "execution_count": null,
   "id": "aca4334d",
   "metadata": {},
   "outputs": [],
   "source": [
    "# Verificando o tipo dos dados"
   ]
  },
  {
   "cell_type": "code",
   "execution_count": null,
   "id": "279f17dc",
   "metadata": {},
   "outputs": [],
   "source": [
    "# E os valores nulos"
   ]
  },
  {
   "cell_type": "markdown",
   "id": "b89509f7",
   "metadata": {},
   "source": [
    "- **Agora vamos visualizar a base de teste**"
   ]
  },
  {
   "cell_type": "code",
   "execution_count": null,
   "id": "87c1caaa",
   "metadata": {},
   "outputs": [],
   "source": [
    "# Visualizando a base de teste"
   ]
  },
  {
   "cell_type": "code",
   "execution_count": null,
   "id": "d3ffcf9f",
   "metadata": {},
   "outputs": [],
   "source": [
    "# Verificando as informações da base"
   ]
  },
  {
   "cell_type": "code",
   "execution_count": null,
   "id": "e5284e8e",
   "metadata": {},
   "outputs": [],
   "source": [
    "# Analisando os valores nulos"
   ]
  },
  {
   "cell_type": "markdown",
   "id": "7ed073a4",
   "metadata": {},
   "source": [
    "- Temos colunas que **possuem valores vazios na base de teste que não estão vazias na base de treino** (nesse caso, precisaríamos tratar essas colunas apenas na base de teste)"
   ]
  },
  {
   "cell_type": "markdown",
   "id": "fc72da86",
   "metadata": {},
   "source": [
    "### Realizando os tratamentos iniciais dos dados"
   ]
  },
  {
   "cell_type": "markdown",
   "id": "998c0129",
   "metadata": {},
   "source": [
    "- **Podemos começar tratando os valores vazios**"
   ]
  },
  {
   "cell_type": "code",
   "execution_count": null,
   "id": "7e4ba3b4",
   "metadata": {
    "scrolled": true
   },
   "outputs": [],
   "source": [
    "# Verificando novamente valores vazios para a base de treino"
   ]
  },
  {
   "cell_type": "code",
   "execution_count": null,
   "id": "9aa2473b",
   "metadata": {},
   "outputs": [],
   "source": [
    "# Retornando o shape da base"
   ]
  },
  {
   "cell_type": "code",
   "execution_count": null,
   "id": "ee403a62",
   "metadata": {},
   "outputs": [],
   "source": [
    "# Visualizando novamente a base"
   ]
  },
  {
   "cell_type": "code",
   "execution_count": null,
   "id": "1531f335",
   "metadata": {},
   "outputs": [],
   "source": [
    "# Verificando a cardinalidade dos dados"
   ]
  },
  {
   "cell_type": "markdown",
   "id": "0888d08d",
   "metadata": {},
   "source": [
    "- Colunas com **alta cardinalidade** como nome, número do ticket e até mesmo o código da cabine não vão ajudar o modelo pois podem torná-lo **menos generalizável**. Nesse caso, vamos **eliminar essas colunas**"
   ]
  },
  {
   "cell_type": "code",
   "execution_count": null,
   "id": "7c6e4f4a",
   "metadata": {},
   "outputs": [],
   "source": [
    "# Eliminando para a base de treino"
   ]
  },
  {
   "cell_type": "code",
   "execution_count": null,
   "id": "c91bb2aa",
   "metadata": {},
   "outputs": [],
   "source": [
    "# Também eliminando para a base de teste"
   ]
  },
  {
   "cell_type": "markdown",
   "id": "2b6a791d",
   "metadata": {},
   "source": [
    "- Agora precisamos tratar a coluna **Age**, que possui valores vazios tanto no treino quanto no teste\n",
    "    - Como essa coluna possui a idade dos passageiros, podemos utilizar a **média das idades** para substituir os valores vazios"
   ]
  },
  {
   "cell_type": "code",
   "execution_count": null,
   "id": "f79e19b3",
   "metadata": {},
   "outputs": [],
   "source": [
    "# Verificando a média das idades para a base de treino"
   ]
  },
  {
   "cell_type": "code",
   "execution_count": null,
   "id": "8de59f02",
   "metadata": {},
   "outputs": [],
   "source": [
    "# Podemos agora selecionar as colunas com idade vazia e substituir por essa média"
   ]
  },
  {
   "cell_type": "code",
   "execution_count": null,
   "id": "e05e69c1",
   "metadata": {},
   "outputs": [],
   "source": [
    "# E fazendo o mesmo para a base de teste"
   ]
  },
  {
   "cell_type": "markdown",
   "id": "ea6c07a7",
   "metadata": {},
   "source": [
    "- Para a base de treino, ainda temos 2 valores vazios na coluna **Embarked**\n",
    "    - Podemos verificar todos os valores nessa coluna e substituir os valores vazios pela **moda**"
   ]
  },
  {
   "cell_type": "code",
   "execution_count": null,
   "id": "600aa621",
   "metadata": {},
   "outputs": [],
   "source": [
    "# Verificando os valores na coluna Embarked"
   ]
  },
  {
   "cell_type": "code",
   "execution_count": null,
   "id": "867b73d7",
   "metadata": {},
   "outputs": [],
   "source": [
    "# Selecionando a moda dessa coluna"
   ]
  },
  {
   "cell_type": "code",
   "execution_count": null,
   "id": "775ae7f6",
   "metadata": {},
   "outputs": [],
   "source": [
    "# Substituindo os valores vazios"
   ]
  },
  {
   "cell_type": "markdown",
   "id": "befa930a",
   "metadata": {},
   "source": [
    "- Para finalizar, para a base de teste ainda temos 1 valor vazio em **Fare**\n",
    "    - Podemos utilizar a mesma lógica que fizemos para a coluna Age e substituir pela **moda**"
   ]
  },
  {
   "cell_type": "code",
   "execution_count": null,
   "id": "dcff7247",
   "metadata": {},
   "outputs": [],
   "source": [
    "# Verificando a média da coluna Fare para a base de teste"
   ]
  },
  {
   "cell_type": "markdown",
   "id": "7558e543",
   "metadata": {},
   "source": [
    "- **Verificando novamente os valores vazios**"
   ]
  },
  {
   "cell_type": "code",
   "execution_count": null,
   "id": "dff8d3d5",
   "metadata": {},
   "outputs": [],
   "source": [
    "# Para a base de treino"
   ]
  },
  {
   "cell_type": "code",
   "execution_count": null,
   "id": "0369a986",
   "metadata": {},
   "outputs": [],
   "source": [
    "# Para a base de teste"
   ]
  },
  {
   "cell_type": "markdown",
   "id": "ef81eda3",
   "metadata": {},
   "source": [
    "### Considerando apenas as colunas que não são de texto"
   ]
  },
  {
   "cell_type": "code",
   "execution_count": null,
   "id": "ffbf4a5c",
   "metadata": {},
   "outputs": [],
   "source": [
    "# Verificando as colunas de texto na base de treino"
   ]
  },
  {
   "cell_type": "code",
   "execution_count": null,
   "id": "f5ce9e75",
   "metadata": {},
   "outputs": [],
   "source": [
    "# Selecionando apenas os valores numéricos da base de treino"
   ]
  },
  {
   "cell_type": "code",
   "execution_count": null,
   "id": "ec8de66e",
   "metadata": {},
   "outputs": [],
   "source": [
    "# E para a base de teste"
   ]
  },
  {
   "cell_type": "code",
   "execution_count": null,
   "id": "674d37b1",
   "metadata": {},
   "outputs": [],
   "source": [
    "# e os valores numéricos da base de teste"
   ]
  },
  {
   "cell_type": "markdown",
   "id": "82b1af18",
   "metadata": {},
   "source": [
    "### Podemos agora selecionar um modelo para classificar esses dados\n",
    "- Para começar, vamos testar entre:\n",
    "    - **Árvore de classificação**\n",
    "        - https://scikit-learn.org/stable/modules/tree.html#classification\n",
    "    - **Classificação dos vizinhos mais próximos**\n",
    "        - https://scikit-learn.org/stable/modules/generated/sklearn.neighbors.KNeighborsClassifier.html#sklearn.neighbors.KNeighborsClassifier\n",
    "    - **Regressão Logística**\n",
    "        - https://scikit-learn.org/stable/modules/generated/sklearn.linear_model.LogisticRegression.html#sklearn.linear_model.LogisticRegression"
   ]
  },
  {
   "cell_type": "markdown",
   "id": "5ae2ee76",
   "metadata": {},
   "source": [
    "- Antes de usar os algoritmos, precisamos separar a base de treino em **treino e validação**\n",
    "    - Vamos fazer isso utilizando o **train_test_split**\n",
    "        - https://scikit-learn.org/stable/modules/generated/sklearn.model_selection.train_test_split.html"
   ]
  },
  {
   "cell_type": "code",
   "execution_count": null,
   "id": "769a8cba",
   "metadata": {},
   "outputs": [],
   "source": [
    "# Importando o train_test_split"
   ]
  },
  {
   "cell_type": "code",
   "execution_count": null,
   "id": "17dafbcf",
   "metadata": {},
   "outputs": [],
   "source": [
    "# Separando a base de treino em X e y"
   ]
  },
  {
   "cell_type": "code",
   "execution_count": null,
   "id": "54bfceae",
   "metadata": {},
   "outputs": [],
   "source": [
    "# Separando em treino e validação"
   ]
  },
  {
   "cell_type": "markdown",
   "id": "267172c2",
   "metadata": {},
   "source": [
    "- Para a **árvore de classificação**"
   ]
  },
  {
   "cell_type": "code",
   "execution_count": null,
   "id": "33f1d741",
   "metadata": {},
   "outputs": [],
   "source": [
    "# Fazendo a importação"
   ]
  },
  {
   "cell_type": "code",
   "execution_count": null,
   "id": "954b1f36",
   "metadata": {},
   "outputs": [],
   "source": [
    "# Criando o classificador"
   ]
  },
  {
   "cell_type": "code",
   "execution_count": null,
   "id": "cb3734c7",
   "metadata": {},
   "outputs": [],
   "source": [
    "# Fazendo o fit com os dados"
   ]
  },
  {
   "cell_type": "code",
   "execution_count": null,
   "id": "78852919",
   "metadata": {},
   "outputs": [],
   "source": [
    "# Fazendo a previsão"
   ]
  },
  {
   "cell_type": "markdown",
   "id": "dc19b4e5",
   "metadata": {},
   "source": [
    "- Para o **KNeighborsClassifier**"
   ]
  },
  {
   "cell_type": "code",
   "execution_count": null,
   "id": "f9f971e7",
   "metadata": {},
   "outputs": [],
   "source": [
    "# Importando"
   ]
  },
  {
   "cell_type": "code",
   "execution_count": null,
   "id": "da8a904f",
   "metadata": {},
   "outputs": [],
   "source": [
    "# Criando o classificador"
   ]
  },
  {
   "cell_type": "code",
   "execution_count": null,
   "id": "de05cae2",
   "metadata": {},
   "outputs": [],
   "source": [
    "# Fazendo o fit com os dados"
   ]
  },
  {
   "cell_type": "code",
   "execution_count": null,
   "id": "3caac52c",
   "metadata": {},
   "outputs": [],
   "source": [
    "# Fazendo a previsão"
   ]
  },
  {
   "cell_type": "markdown",
   "id": "749c3fe8",
   "metadata": {},
   "source": [
    "- E para a **Regressão Logística**"
   ]
  },
  {
   "cell_type": "code",
   "execution_count": null,
   "id": "45b3b211",
   "metadata": {},
   "outputs": [],
   "source": [
    "# Importando"
   ]
  },
  {
   "cell_type": "code",
   "execution_count": null,
   "id": "948fc8bd",
   "metadata": {},
   "outputs": [],
   "source": [
    "# Criando o classificador"
   ]
  },
  {
   "cell_type": "code",
   "execution_count": null,
   "id": "c2014d6d",
   "metadata": {},
   "outputs": [],
   "source": [
    "# Fazendo o fit com os dados"
   ]
  },
  {
   "cell_type": "code",
   "execution_count": null,
   "id": "8e878605",
   "metadata": {},
   "outputs": [],
   "source": [
    "# Fazendo a previsão"
   ]
  },
  {
   "cell_type": "markdown",
   "id": "a9176a1c",
   "metadata": {},
   "source": [
    "### E, para finalizar, vamos avaliar esses modelos\n",
    "- Para fazer essa análise, podemos usar:\n",
    "    - Acurácia (método de avaliação usado na competição):\n",
    "        - https://scikit-learn.org/stable/modules/generated/sklearn.metrics.accuracy_score.html\n",
    "    - Matriz de confusão (ajuda a visualizar a distribuição dos erros):\n",
    "        - https://scikit-learn.org/stable/modules/generated/sklearn.metrics.confusion_matrix.html"
   ]
  },
  {
   "cell_type": "markdown",
   "id": "6df51415",
   "metadata": {},
   "source": [
    "- Avaliando a **acurácia**"
   ]
  },
  {
   "cell_type": "code",
   "execution_count": null,
   "id": "a5b05922",
   "metadata": {},
   "outputs": [],
   "source": [
    "# Importando"
   ]
  },
  {
   "cell_type": "code",
   "execution_count": null,
   "id": "e30194eb",
   "metadata": {},
   "outputs": [],
   "source": [
    "# Para a árvore"
   ]
  },
  {
   "cell_type": "code",
   "execution_count": null,
   "id": "48ab9f2b",
   "metadata": {},
   "outputs": [],
   "source": [
    "# Para o knn"
   ]
  },
  {
   "cell_type": "code",
   "execution_count": null,
   "id": "0a47a83e",
   "metadata": {},
   "outputs": [],
   "source": [
    "# Para a regressão logística"
   ]
  },
  {
   "cell_type": "markdown",
   "id": "75f1463d",
   "metadata": {},
   "source": [
    "- Avaliando a **matriz de confusão**"
   ]
  },
  {
   "cell_type": "code",
   "execution_count": null,
   "id": "93e0460f",
   "metadata": {},
   "outputs": [],
   "source": [
    "# Importando"
   ]
  },
  {
   "cell_type": "code",
   "execution_count": null,
   "id": "5cde2465",
   "metadata": {},
   "outputs": [],
   "source": [
    "# Para a árvore"
   ]
  },
  {
   "cell_type": "code",
   "execution_count": null,
   "id": "8e83d4d9",
   "metadata": {},
   "outputs": [],
   "source": [
    "# Para o knn"
   ]
  },
  {
   "cell_type": "code",
   "execution_count": null,
   "id": "b3f4499b",
   "metadata": {},
   "outputs": [],
   "source": [
    "# Para a regressão logística"
   ]
  },
  {
   "cell_type": "markdown",
   "id": "70fb0198",
   "metadata": {},
   "source": [
    "### Fazendo a previsão para os dados de teste\n",
    "- Vamos usar o modelo com melhor precisão para fazer o predict na base de teste"
   ]
  },
  {
   "cell_type": "code",
   "execution_count": null,
   "id": "e2661e59",
   "metadata": {},
   "outputs": [],
   "source": [
    "# Visualizando o X_train"
   ]
  },
  {
   "cell_type": "code",
   "execution_count": null,
   "id": "3be47ba2",
   "metadata": {},
   "outputs": [],
   "source": [
    "# Visualizando a base de teste (apenas com valores numéricos)"
   ]
  },
  {
   "cell_type": "code",
   "execution_count": null,
   "id": "4f130a33",
   "metadata": {},
   "outputs": [],
   "source": [
    "# Para a base de teste ser igual a base de treino, precisamos eliminar a coluna de id"
   ]
  },
  {
   "cell_type": "code",
   "execution_count": null,
   "id": "a88ce180",
   "metadata": {},
   "outputs": [],
   "source": [
    "# Utilizando a regressão logística na base de teste"
   ]
  },
  {
   "cell_type": "code",
   "execution_count": null,
   "id": "f600d8e0",
   "metadata": {},
   "outputs": [],
   "source": [
    "# Criando uma nova coluna com a previsão na base de teste"
   ]
  },
  {
   "cell_type": "code",
   "execution_count": null,
   "id": "a7f24559",
   "metadata": {},
   "outputs": [],
   "source": [
    "# Selecionando apenas a coluna de Id e Survived para fazer o envio"
   ]
  },
  {
   "cell_type": "code",
   "execution_count": null,
   "id": "ced64242",
   "metadata": {},
   "outputs": [],
   "source": [
    "# Exportando para um csv"
   ]
  }
 ],
 "metadata": {
  "kernelspec": {
   "display_name": "Python 3 (ipykernel)",
   "language": "python",
   "name": "python3"
  },
  "language_info": {
   "codemirror_mode": {
    "name": "ipython",
    "version": 3
   },
   "file_extension": ".py",
   "mimetype": "text/x-python",
   "name": "python",
   "nbconvert_exporter": "python",
   "pygments_lexer": "ipython3",
   "version": "3.9.13"
  }
 },
 "nbformat": 4,
 "nbformat_minor": 5
}
