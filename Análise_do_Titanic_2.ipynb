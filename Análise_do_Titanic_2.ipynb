{
 "cells": [
  {
   "cell_type": "markdown",
   "id": "321aee4f",
   "metadata": {},
   "source": [
    "# Titanic - Machine Learning from Disaster\n",
    "\n",
    "<img src=\"https://storage.googleapis.com/kaggle-competitions/kaggle/3136/logos/header.png\" width=900>\n",
    "\n",
    "- Vamos utilizar os [dados disponíveis no Kaggle](https://www.kaggle.com/competitions/titanic)\n",
    "    - É um dataset de **competição**\n",
    "    - O resultado é avaliado através da **acurácia**:\n",
    "        - _\"Sua pontuação é a porcentagem de passageiros que você prevê corretamente. Isso é conhecido como acurácia.\"_"
   ]
  },
  {
   "cell_type": "markdown",
   "id": "e860c1c7",
   "metadata": {},
   "source": [
    "### Importando novamente as bases e fazendo o tratamento dos dados\n",
    "- Vamos apenas replicar o que fizemos no **[primeiro arquivo dessa análise](https://github.com/lucaslealx/Titanic/blob/main/Parte1.ipynb)** (para visualizar a parte 1 completa, visite esse link)"
   ]
  },
  {
   "cell_type": "code",
   "execution_count": null,
   "id": "d3c866a6",
   "metadata": {},
   "outputs": [],
   "source": [
    "# Importando o pandas\n",
    "import pandas as pd"
   ]
  },
  {
   "cell_type": "code",
   "execution_count": null,
   "id": "0c7a7e15",
   "metadata": {},
   "outputs": [],
   "source": [
    "# Visualizando a base de treino\n",
    "treino = pd.read_csv('train.csv')\n",
    "treino.head(3)"
   ]
  },
  {
   "cell_type": "code",
   "execution_count": null,
   "id": "a8bf6800",
   "metadata": {},
   "outputs": [],
   "source": [
    "# Visualizando a base de teste\n",
    "teste = pd.read_csv('test.csv')\n",
    "teste.head(3)"
   ]
  },
  {
   "cell_type": "markdown",
   "id": "da9d4907",
   "metadata": {},
   "source": [
    "- **Fazendo o mesmo tratamento inicial que fizemos na aula anterior**"
   ]
  },
  {
   "cell_type": "code",
   "execution_count": null,
   "id": "bf0433e5",
   "metadata": {},
   "outputs": [],
   "source": [
    "# Eliminando as colunas com elevada cardinalidade\n",
    "treino = treino.drop(['Name','Ticket','Cabin'],axis=1)\n",
    "teste = teste.drop(['Name','Ticket','Cabin'],axis=1)"
   ]
  },
  {
   "cell_type": "code",
   "execution_count": null,
   "id": "fb7cfa69",
   "metadata": {},
   "outputs": [],
   "source": [
    "# Usando a média para substituir valores nulos na coluna de idade\n",
    "treino.loc[treino.Age.isnull(),'Age'] = treino.Age.mean()\n",
    "teste.loc[teste.Age.isnull(),'Age'] = teste.Age.mean()"
   ]
  },
  {
   "cell_type": "code",
   "execution_count": null,
   "id": "5ae224c0",
   "metadata": {},
   "outputs": [],
   "source": [
    "# Tratando a coluna Embarked da base de treino usando a moda \n",
    "treino.loc[treino.Embarked.isnull(),'Embarked'] = treino.Embarked.mode()[0]"
   ]
  },
  {
   "cell_type": "code",
   "execution_count": null,
   "id": "2d38ce71",
   "metadata": {},
   "outputs": [],
   "source": [
    "# E também a coluna Fare da base de teste usando a média\n",
    "teste.loc[teste.Fare.isnull(),'Fare'] = teste.Fare.mean()"
   ]
  },
  {
   "cell_type": "markdown",
   "id": "d48849a0",
   "metadata": {},
   "source": [
    "### Podemos agora entender as colunas de texto\n",
    "- Vamos agora **adicionar um novo tratamento das colunas de texto**"
   ]
  },
  {
   "cell_type": "code",
   "execution_count": null,
   "id": "7a6b5bed",
   "metadata": {},
   "outputs": [],
   "source": [
    "# Verificando as colunas de texto na base de treino"
   ]
  },
  {
   "cell_type": "code",
   "execution_count": null,
   "id": "f92bccdb",
   "metadata": {},
   "outputs": [],
   "source": [
    "# Verificando os valores na coluna Sex"
   ]
  },
  {
   "cell_type": "code",
   "execution_count": null,
   "id": "1c35b70e",
   "metadata": {},
   "outputs": [],
   "source": [
    "# e na coluna Embarked"
   ]
  },
  {
   "cell_type": "markdown",
   "id": "95aec76f",
   "metadata": {},
   "source": [
    "- Para tratar a coluna Sex, podemos criar uma nova coluna chamada **\"Male_Check\"** que **vai receber 1 se o gênero for masculino e 0 se o gênero for feminino**"
   ]
  },
  {
   "cell_type": "code",
   "execution_count": null,
   "id": "9ef39208",
   "metadata": {},
   "outputs": [],
   "source": [
    "# Usando uma lambda function para fazer esse tratamento"
   ]
  },
  {
   "cell_type": "code",
   "execution_count": null,
   "id": "ee525036",
   "metadata": {},
   "outputs": [],
   "source": [
    "# Verificando os valores"
   ]
  },
  {
   "cell_type": "markdown",
   "id": "4b131965",
   "metadata": {},
   "source": [
    "- O próximo passo é fazer o mesmo para a base de teste"
   ]
  },
  {
   "cell_type": "code",
   "execution_count": null,
   "id": "e6c305d7",
   "metadata": {},
   "outputs": [],
   "source": [
    "# Usando uma lambda function para fazer esse tratamento"
   ]
  },
  {
   "cell_type": "code",
   "execution_count": null,
   "id": "e2aa3710",
   "metadata": {},
   "outputs": [],
   "source": [
    "# Verificando os valores"
   ]
  },
  {
   "cell_type": "markdown",
   "id": "4f6a080a",
   "metadata": {},
   "source": [
    "- Agora, para tratar a coluna **Embarked** usando o **[OneHotEncoder](https://scikit-learn.org/stable/modules/generated/sklearn.preprocessing.OneHotEncoder.html)** que irá **criar uma nova coluna para cada um dos rótulos da coluna original**"
   ]
  },
  {
   "cell_type": "code",
   "execution_count": null,
   "id": "8b9ce911",
   "metadata": {},
   "outputs": [],
   "source": [
    "# Importando o OneHotEncoder"
   ]
  },
  {
   "cell_type": "code",
   "execution_count": null,
   "id": "c7948f5f",
   "metadata": {},
   "outputs": [],
   "source": [
    "# Criando o encoder"
   ]
  },
  {
   "cell_type": "code",
   "execution_count": null,
   "id": "39cfa842",
   "metadata": {},
   "outputs": [],
   "source": [
    "# Fazendo o fit com os dados"
   ]
  },
  {
   "cell_type": "code",
   "execution_count": null,
   "id": "3f7d2a74",
   "metadata": {},
   "outputs": [],
   "source": [
    "# Fazendo a transformação"
   ]
  },
  {
   "cell_type": "code",
   "execution_count": null,
   "id": "413d1add",
   "metadata": {},
   "outputs": [],
   "source": [
    "# Transformando esse resultado em um DataFrame"
   ]
  },
  {
   "cell_type": "code",
   "execution_count": null,
   "id": "766de833",
   "metadata": {},
   "outputs": [],
   "source": [
    "# Podemos agora adicionar essa coluna na nossa base de teste"
   ]
  },
  {
   "cell_type": "code",
   "execution_count": null,
   "id": "c04b67b7",
   "metadata": {},
   "outputs": [],
   "source": [
    "# Verificando os valores"
   ]
  },
  {
   "cell_type": "markdown",
   "id": "a5f5764c",
   "metadata": {},
   "source": [
    "- Agora vamos **fazer o mesmo para a base de teste usando o encoder ohe que criamos acima**"
   ]
  },
  {
   "cell_type": "code",
   "execution_count": null,
   "id": "9fa70517",
   "metadata": {},
   "outputs": [],
   "source": [
    "# Transformando esse resultado em um DataFrame"
   ]
  },
  {
   "cell_type": "code",
   "execution_count": null,
   "id": "664c0ba6",
   "metadata": {},
   "outputs": [],
   "source": [
    "# Adicionando o resultado na base de teste"
   ]
  },
  {
   "cell_type": "code",
   "execution_count": null,
   "id": "1c8f36e0",
   "metadata": {},
   "outputs": [],
   "source": [
    "# Verificando também os valores"
   ]
  },
  {
   "cell_type": "markdown",
   "id": "6795fb4c",
   "metadata": {},
   "source": [
    "### Usando essa nova base no modelo"
   ]
  },
  {
   "cell_type": "code",
   "execution_count": null,
   "id": "51d5ea38",
   "metadata": {},
   "outputs": [],
   "source": [
    "# Visualizando a base"
   ]
  },
  {
   "cell_type": "code",
   "execution_count": null,
   "id": "1ff56674",
   "metadata": {},
   "outputs": [],
   "source": [
    "# Podemos então apagar essas duas colunas que já tratamos"
   ]
  },
  {
   "cell_type": "markdown",
   "id": "7a7c3c7f",
   "metadata": {},
   "source": [
    "- Podemos selecionar os mesmos modelos que vimos anteriormente (consulte arquivo da **[parte 1](https://github.com/lucaslealx/Titanic/blob/main/Parte1.ipynb)**)\n",
    "    - **Árvore de classificação**\n",
    "        - https://scikit-learn.org/stable/modules/tree.html#classification\n",
    "    - **Classificação dos vizinhos mais próximos**\n",
    "        - https://scikit-learn.org/stable/modules/generated/sklearn.neighbors.KNeighborsClassifier.html#sklearn.neighbors.KNeighborsClassifier\n",
    "    - **Regressão Logística**\n",
    "        - https://scikit-learn.org/stable/modules/generated/sklearn.linear_model.LogisticRegression.html#sklearn.linear_model.LogisticRegression\n",
    "- Antes de usar os algoritmos, precisamos separar a base de treino em **treino e validação**\n",
    "    - Vamos fazer isso utilizando o **train_test_split**\n",
    "        - https://scikit-learn.org/stable/modules/generated/sklearn.model_selection.train_test_split.html"
   ]
  },
  {
   "cell_type": "code",
   "execution_count": null,
   "id": "36f0b066",
   "metadata": {},
   "outputs": [],
   "source": [
    "# Importando o train_test_split\n",
    "from sklearn.model_selection import train_test_split"
   ]
  },
  {
   "cell_type": "code",
   "execution_count": null,
   "id": "9110b1f4",
   "metadata": {},
   "outputs": [],
   "source": [
    "# Separando a base de treino em X e y\n",
    "X = treino.drop(['PassengerId','Survived'],axis=1)\n",
    "y = treino.Survived"
   ]
  },
  {
   "cell_type": "code",
   "execution_count": null,
   "id": "7540d766",
   "metadata": {},
   "outputs": [],
   "source": [
    "# Separando em treino e validação\n",
    "X_train, X_val, y_train, y_val = train_test_split(X, y, test_size=0.33, random_state=42)"
   ]
  },
  {
   "cell_type": "markdown",
   "id": "6a6433c0",
   "metadata": {},
   "source": [
    "- Para a **árvore de classificação**"
   ]
  },
  {
   "cell_type": "code",
   "execution_count": null,
   "id": "ca0ea325",
   "metadata": {},
   "outputs": [],
   "source": [
    "# Fazendo a importação\n",
    "from sklearn import tree"
   ]
  },
  {
   "cell_type": "code",
   "execution_count": null,
   "id": "23f96bbb",
   "metadata": {},
   "outputs": [],
   "source": [
    "# Criando o classificador\n",
    "clf_ac = tree.DecisionTreeClassifier(random_state=42)"
   ]
  },
  {
   "cell_type": "code",
   "execution_count": null,
   "id": "0be23ba5",
   "metadata": {},
   "outputs": [],
   "source": [
    "# Fazendo o fit com os dados\n",
    "clf_ac = clf_ac.fit(X_train,y_train)"
   ]
  },
  {
   "cell_type": "code",
   "execution_count": null,
   "id": "620fd26d",
   "metadata": {},
   "outputs": [],
   "source": [
    "# Fazendo a previsão\n",
    "y_pred_ac = clf_ac.predict(X_val)"
   ]
  },
  {
   "cell_type": "markdown",
   "id": "860e0bc0",
   "metadata": {},
   "source": [
    "- Para o **KNeighborsClassifier**"
   ]
  },
  {
   "cell_type": "code",
   "execution_count": null,
   "id": "4d54247f",
   "metadata": {},
   "outputs": [],
   "source": [
    "# Importando\n",
    "from sklearn.neighbors import KNeighborsClassifier"
   ]
  },
  {
   "cell_type": "code",
   "execution_count": null,
   "id": "a5b0532d",
   "metadata": {},
   "outputs": [],
   "source": [
    "# Criando o classificador\n",
    "clf_knn = KNeighborsClassifier(n_neighbors=3)"
   ]
  },
  {
   "cell_type": "code",
   "execution_count": null,
   "id": "f7093f72",
   "metadata": {},
   "outputs": [],
   "source": [
    "# Fazendo o fit com os dados\n",
    "clf_knn = clf_knn.fit(X_train,y_train)"
   ]
  },
  {
   "cell_type": "code",
   "execution_count": null,
   "id": "0b62e22f",
   "metadata": {},
   "outputs": [],
   "source": [
    "# Fazendo a previsão\n",
    "y_pred_knn = clf_knn.predict(X_val)"
   ]
  },
  {
   "cell_type": "markdown",
   "id": "d7a681fb",
   "metadata": {},
   "source": [
    "- E para a **Regressão Logística**"
   ]
  },
  {
   "cell_type": "code",
   "execution_count": null,
   "id": "acdb8597",
   "metadata": {},
   "outputs": [],
   "source": [
    "# Importando\n",
    "from sklearn.linear_model import LogisticRegression"
   ]
  },
  {
   "cell_type": "code",
   "execution_count": null,
   "id": "57a895ac",
   "metadata": {},
   "outputs": [],
   "source": [
    "# Criando o classificador\n",
    "clf_rl = LogisticRegression(random_state=42,max_iter=1000)"
   ]
  },
  {
   "cell_type": "code",
   "execution_count": null,
   "id": "a86ac3c4",
   "metadata": {},
   "outputs": [],
   "source": [
    "# Fazendo o fit com os dados\n",
    "clf_rl = clf_rl.fit(X_train,y_train)"
   ]
  },
  {
   "cell_type": "code",
   "execution_count": null,
   "id": "4fd3c698",
   "metadata": {},
   "outputs": [],
   "source": [
    "# Fazendo a previsão\n",
    "y_pred_rl = clf_rl.predict(X_val)"
   ]
  },
  {
   "cell_type": "markdown",
   "id": "d76a8036",
   "metadata": {},
   "source": [
    "- Vamos novamente **avaliar os modelos**\n",
    "    - Acurácia (método de avaliação usado na competição):\n",
    "        - https://scikit-learn.org/stable/modules/generated/sklearn.metrics.accuracy_score.html\n",
    "    - Matriz de confusão (ajuda a visualizar a distribuição dos erros):\n",
    "        - https://scikit-learn.org/stable/modules/generated/sklearn.metrics.confusion_matrix.html"
   ]
  },
  {
   "cell_type": "markdown",
   "id": "bf694913",
   "metadata": {},
   "source": [
    "- Avaliando a **acurácia**"
   ]
  },
  {
   "cell_type": "code",
   "execution_count": null,
   "id": "02fbd240",
   "metadata": {},
   "outputs": [],
   "source": [
    "# Importando\n",
    "from sklearn.metrics import accuracy_score"
   ]
  },
  {
   "cell_type": "code",
   "execution_count": null,
   "id": "708543cc",
   "metadata": {},
   "outputs": [],
   "source": [
    "# Para a árvore\n",
    "accuracy_score(y_val, y_pred_ac)"
   ]
  },
  {
   "cell_type": "code",
   "execution_count": null,
   "id": "e38b7270",
   "metadata": {},
   "outputs": [],
   "source": [
    "# Para o knn\n",
    "accuracy_score(y_val, y_pred_knn)"
   ]
  },
  {
   "cell_type": "code",
   "execution_count": null,
   "id": "446439ae",
   "metadata": {},
   "outputs": [],
   "source": [
    "# Para a regressão logística\n",
    "accuracy_score(y_val, y_pred_rl)"
   ]
  },
  {
   "cell_type": "markdown",
   "id": "86e8e994",
   "metadata": {},
   "source": [
    "- Avaliando a **matriz de confusão**"
   ]
  },
  {
   "cell_type": "code",
   "execution_count": null,
   "id": "d8265dc0",
   "metadata": {},
   "outputs": [],
   "source": [
    "# Importando\n",
    "from sklearn.metrics import confusion_matrix"
   ]
  },
  {
   "cell_type": "code",
   "execution_count": null,
   "id": "9f7278ae",
   "metadata": {},
   "outputs": [],
   "source": [
    "# Para a árvore\n",
    "confusion_matrix(y_val, y_pred_ac)"
   ]
  },
  {
   "cell_type": "code",
   "execution_count": null,
   "id": "b4e9c36a",
   "metadata": {},
   "outputs": [],
   "source": [
    "# Para o knn\n",
    "confusion_matrix(y_val, y_pred_knn)"
   ]
  },
  {
   "cell_type": "code",
   "execution_count": null,
   "id": "4edc78f2",
   "metadata": {},
   "outputs": [],
   "source": [
    "# Para a regressão logística\n",
    "confusion_matrix(y_val, y_pred_rl)"
   ]
  },
  {
   "cell_type": "markdown",
   "id": "4656b058",
   "metadata": {},
   "source": [
    "### Fazendo a previsão para os dados de teste\n",
    "- Vamos usar o modelo com melhor precisão para fazer o predict na base de teste"
   ]
  },
  {
   "cell_type": "code",
   "execution_count": null,
   "id": "d316d0f3",
   "metadata": {},
   "outputs": [],
   "source": [
    "# Visualizando o X_train"
   ]
  },
  {
   "cell_type": "code",
   "execution_count": null,
   "id": "b97efd5c",
   "metadata": {},
   "outputs": [],
   "source": [
    "# Visualizando a base de teste"
   ]
  },
  {
   "cell_type": "code",
   "execution_count": null,
   "id": "e34f5ff4",
   "metadata": {},
   "outputs": [],
   "source": [
    "# Para a base de teste ser igual a base de treino, precisamos eliminar a coluna de id"
   ]
  },
  {
   "cell_type": "code",
   "execution_count": null,
   "id": "f0497a13",
   "metadata": {},
   "outputs": [],
   "source": [
    "# Utilizando a regressão logística na base de teste"
   ]
  },
  {
   "cell_type": "code",
   "execution_count": null,
   "id": "08fffa82",
   "metadata": {},
   "outputs": [],
   "source": [
    "# Criando uma nova coluna com a previsão na base de teste"
   ]
  },
  {
   "cell_type": "code",
   "execution_count": null,
   "id": "8b1fb599",
   "metadata": {},
   "outputs": [],
   "source": [
    "# Selecionando apenas a coluna de Id e Survived para fazer o envio"
   ]
  },
  {
   "cell_type": "code",
   "execution_count": null,
   "id": "2965c544",
   "metadata": {},
   "outputs": [],
   "source": [
    "# Exportando para um csv"
   ]
  }
 ],
 "metadata": {
  "kernelspec": {
   "display_name": "Python 3 (ipykernel)",
   "language": "python",
   "name": "python3"
  },
  "language_info": {
   "codemirror_mode": {
    "name": "ipython",
    "version": 3
   },
   "file_extension": ".py",
   "mimetype": "text/x-python",
   "name": "python",
   "nbconvert_exporter": "python",
   "pygments_lexer": "ipython3",
   "version": "3.9.13"
  }
 },
 "nbformat": 4,
 "nbformat_minor": 5
}
