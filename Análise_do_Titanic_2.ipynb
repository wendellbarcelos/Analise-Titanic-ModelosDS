{
 "cells": [
  {
   "attachments": {},
   "cell_type": "markdown",
   "id": "321aee4f",
   "metadata": {},
   "source": [
    "# Titanic - Machine Learning from Disaster\n",
    "\n",
    "<img src=\"https://storage.googleapis.com/kaggle-competitions/kaggle/3136/logos/header.png\" width=900>\n",
    "\n",
    "- Vamos utilizar os [dados disponíveis no Kaggle](https://www.kaggle.com/competitions/titanic)\n",
    "    - É um dataset de **competição**\n",
    "    - O resultado é avaliado através da **acurácia**:\n",
    "        - _\"Sua pontuação é a porcentagem de passageiros que você prevê corretamente. Isso é conhecido como acurácia.\"_"
   ]
  },
  {
   "attachments": {},
   "cell_type": "markdown",
   "id": "e860c1c7",
   "metadata": {},
   "source": [
    "### Importando novamente as bases e fazendo o tratamento dos dados\n",
    "- Vamos apenas replicar o que fizemos no **[primeiro arquivo dessa análise](https://github.com/lucaslealx/Titanic/blob/main/Parte1.ipynb)** (para visualizar a parte 1 completa, visite esse link)"
   ]
  },
  {
   "cell_type": "code",
   "execution_count": 333,
   "id": "d3c866a6",
   "metadata": {},
   "outputs": [],
   "source": [
    "# Importando o pandas\n",
    "import pandas as pd"
   ]
  },
  {
   "cell_type": "code",
   "execution_count": 334,
   "id": "0c7a7e15",
   "metadata": {},
   "outputs": [
    {
     "data": {
      "text/html": [
       "<div>\n",
       "<style scoped>\n",
       "    .dataframe tbody tr th:only-of-type {\n",
       "        vertical-align: middle;\n",
       "    }\n",
       "\n",
       "    .dataframe tbody tr th {\n",
       "        vertical-align: top;\n",
       "    }\n",
       "\n",
       "    .dataframe thead th {\n",
       "        text-align: right;\n",
       "    }\n",
       "</style>\n",
       "<table border=\"1\" class=\"dataframe\">\n",
       "  <thead>\n",
       "    <tr style=\"text-align: right;\">\n",
       "      <th></th>\n",
       "      <th>PassengerId</th>\n",
       "      <th>Survived</th>\n",
       "      <th>Pclass</th>\n",
       "      <th>Name</th>\n",
       "      <th>Sex</th>\n",
       "      <th>Age</th>\n",
       "      <th>SibSp</th>\n",
       "      <th>Parch</th>\n",
       "      <th>Ticket</th>\n",
       "      <th>Fare</th>\n",
       "      <th>Cabin</th>\n",
       "      <th>Embarked</th>\n",
       "    </tr>\n",
       "  </thead>\n",
       "  <tbody>\n",
       "    <tr>\n",
       "      <th>0</th>\n",
       "      <td>1</td>\n",
       "      <td>0</td>\n",
       "      <td>3</td>\n",
       "      <td>Braund, Mr. Owen Harris</td>\n",
       "      <td>male</td>\n",
       "      <td>22.0</td>\n",
       "      <td>1</td>\n",
       "      <td>0</td>\n",
       "      <td>A/5 21171</td>\n",
       "      <td>7.2500</td>\n",
       "      <td>NaN</td>\n",
       "      <td>S</td>\n",
       "    </tr>\n",
       "    <tr>\n",
       "      <th>1</th>\n",
       "      <td>2</td>\n",
       "      <td>1</td>\n",
       "      <td>1</td>\n",
       "      <td>Cumings, Mrs. John Bradley (Florence Briggs Th...</td>\n",
       "      <td>female</td>\n",
       "      <td>38.0</td>\n",
       "      <td>1</td>\n",
       "      <td>0</td>\n",
       "      <td>PC 17599</td>\n",
       "      <td>71.2833</td>\n",
       "      <td>C85</td>\n",
       "      <td>C</td>\n",
       "    </tr>\n",
       "    <tr>\n",
       "      <th>2</th>\n",
       "      <td>3</td>\n",
       "      <td>1</td>\n",
       "      <td>3</td>\n",
       "      <td>Heikkinen, Miss. Laina</td>\n",
       "      <td>female</td>\n",
       "      <td>26.0</td>\n",
       "      <td>0</td>\n",
       "      <td>0</td>\n",
       "      <td>STON/O2. 3101282</td>\n",
       "      <td>7.9250</td>\n",
       "      <td>NaN</td>\n",
       "      <td>S</td>\n",
       "    </tr>\n",
       "  </tbody>\n",
       "</table>\n",
       "</div>"
      ],
      "text/plain": [
       "   PassengerId  Survived  Pclass  \\\n",
       "0            1         0       3   \n",
       "1            2         1       1   \n",
       "2            3         1       3   \n",
       "\n",
       "                                                Name     Sex   Age  SibSp  \\\n",
       "0                            Braund, Mr. Owen Harris    male  22.0      1   \n",
       "1  Cumings, Mrs. John Bradley (Florence Briggs Th...  female  38.0      1   \n",
       "2                             Heikkinen, Miss. Laina  female  26.0      0   \n",
       "\n",
       "   Parch            Ticket     Fare Cabin Embarked  \n",
       "0      0         A/5 21171   7.2500   NaN        S  \n",
       "1      0          PC 17599  71.2833   C85        C  \n",
       "2      0  STON/O2. 3101282   7.9250   NaN        S  "
      ]
     },
     "execution_count": 334,
     "metadata": {},
     "output_type": "execute_result"
    }
   ],
   "source": [
    "# Visualizando a base de treino\n",
    "treino = pd.read_csv('train.csv')\n",
    "treino.head(3)"
   ]
  },
  {
   "cell_type": "code",
   "execution_count": 335,
   "id": "a8bf6800",
   "metadata": {},
   "outputs": [
    {
     "data": {
      "text/html": [
       "<div>\n",
       "<style scoped>\n",
       "    .dataframe tbody tr th:only-of-type {\n",
       "        vertical-align: middle;\n",
       "    }\n",
       "\n",
       "    .dataframe tbody tr th {\n",
       "        vertical-align: top;\n",
       "    }\n",
       "\n",
       "    .dataframe thead th {\n",
       "        text-align: right;\n",
       "    }\n",
       "</style>\n",
       "<table border=\"1\" class=\"dataframe\">\n",
       "  <thead>\n",
       "    <tr style=\"text-align: right;\">\n",
       "      <th></th>\n",
       "      <th>PassengerId</th>\n",
       "      <th>Pclass</th>\n",
       "      <th>Name</th>\n",
       "      <th>Sex</th>\n",
       "      <th>Age</th>\n",
       "      <th>SibSp</th>\n",
       "      <th>Parch</th>\n",
       "      <th>Ticket</th>\n",
       "      <th>Fare</th>\n",
       "      <th>Cabin</th>\n",
       "      <th>Embarked</th>\n",
       "    </tr>\n",
       "  </thead>\n",
       "  <tbody>\n",
       "    <tr>\n",
       "      <th>0</th>\n",
       "      <td>892</td>\n",
       "      <td>3</td>\n",
       "      <td>Kelly, Mr. James</td>\n",
       "      <td>male</td>\n",
       "      <td>34.5</td>\n",
       "      <td>0</td>\n",
       "      <td>0</td>\n",
       "      <td>330911</td>\n",
       "      <td>7.8292</td>\n",
       "      <td>NaN</td>\n",
       "      <td>Q</td>\n",
       "    </tr>\n",
       "    <tr>\n",
       "      <th>1</th>\n",
       "      <td>893</td>\n",
       "      <td>3</td>\n",
       "      <td>Wilkes, Mrs. James (Ellen Needs)</td>\n",
       "      <td>female</td>\n",
       "      <td>47.0</td>\n",
       "      <td>1</td>\n",
       "      <td>0</td>\n",
       "      <td>363272</td>\n",
       "      <td>7.0000</td>\n",
       "      <td>NaN</td>\n",
       "      <td>S</td>\n",
       "    </tr>\n",
       "    <tr>\n",
       "      <th>2</th>\n",
       "      <td>894</td>\n",
       "      <td>2</td>\n",
       "      <td>Myles, Mr. Thomas Francis</td>\n",
       "      <td>male</td>\n",
       "      <td>62.0</td>\n",
       "      <td>0</td>\n",
       "      <td>0</td>\n",
       "      <td>240276</td>\n",
       "      <td>9.6875</td>\n",
       "      <td>NaN</td>\n",
       "      <td>Q</td>\n",
       "    </tr>\n",
       "  </tbody>\n",
       "</table>\n",
       "</div>"
      ],
      "text/plain": [
       "   PassengerId  Pclass                              Name     Sex   Age  SibSp  \\\n",
       "0          892       3                  Kelly, Mr. James    male  34.5      0   \n",
       "1          893       3  Wilkes, Mrs. James (Ellen Needs)  female  47.0      1   \n",
       "2          894       2         Myles, Mr. Thomas Francis    male  62.0      0   \n",
       "\n",
       "   Parch  Ticket    Fare Cabin Embarked  \n",
       "0      0  330911  7.8292   NaN        Q  \n",
       "1      0  363272  7.0000   NaN        S  \n",
       "2      0  240276  9.6875   NaN        Q  "
      ]
     },
     "execution_count": 335,
     "metadata": {},
     "output_type": "execute_result"
    }
   ],
   "source": [
    "# Visualizando a base de teste\n",
    "teste = pd.read_csv('test.csv')\n",
    "teste.head(3)"
   ]
  },
  {
   "attachments": {},
   "cell_type": "markdown",
   "id": "da9d4907",
   "metadata": {},
   "source": [
    "- **Fazendo o mesmo tratamento inicial que fizemos na aula anterior**"
   ]
  },
  {
   "cell_type": "code",
   "execution_count": 336,
   "id": "bf0433e5",
   "metadata": {},
   "outputs": [],
   "source": [
    "# Eliminando as colunas com elevada cardinalidade\n",
    "treino = treino.drop(['Name','Ticket','Cabin'],axis=1)\n",
    "teste = teste.drop(['Name','Ticket','Cabin'],axis=1)"
   ]
  },
  {
   "cell_type": "code",
   "execution_count": 337,
   "id": "fb7cfa69",
   "metadata": {},
   "outputs": [],
   "source": [
    "# Usando a média para substituir valores nulos na coluna de idade\n",
    "treino.loc[treino.Age.isnull(),'Age'] = treino.Age.mean()\n",
    "teste.loc[teste.Age.isnull(),'Age'] = teste.Age.mean()"
   ]
  },
  {
   "cell_type": "code",
   "execution_count": 338,
   "id": "5ae224c0",
   "metadata": {},
   "outputs": [],
   "source": [
    "# Tratando a coluna Embarked da base de treino usando a moda \n",
    "treino.loc[treino.Embarked.isnull(),'Embarked'] = treino.Embarked.mode()[0]"
   ]
  },
  {
   "cell_type": "code",
   "execution_count": 339,
   "id": "2d38ce71",
   "metadata": {},
   "outputs": [],
   "source": [
    "# E também a coluna Fare da base de teste usando a média\n",
    "teste.loc[teste.Fare.isnull(),'Fare'] = teste.Fare.mean()"
   ]
  },
  {
   "attachments": {},
   "cell_type": "markdown",
   "id": "d48849a0",
   "metadata": {},
   "source": [
    "### Podemos agora entender as colunas de texto\n",
    "- Vamos agora **adicionar um novo tratamento das colunas de texto**"
   ]
  },
  {
   "cell_type": "code",
   "execution_count": 340,
   "id": "7a6b5bed",
   "metadata": {},
   "outputs": [
    {
     "data": {
      "text/plain": [
       "Index(['Sex', 'Embarked'], dtype='object')"
      ]
     },
     "execution_count": 340,
     "metadata": {},
     "output_type": "execute_result"
    }
   ],
   "source": [
    "# Verificando as colunas de texto na base de treino\n",
    "treino.columns[treino.dtypes == 'object']"
   ]
  },
  {
   "cell_type": "code",
   "execution_count": 341,
   "id": "f92bccdb",
   "metadata": {},
   "outputs": [
    {
     "data": {
      "text/plain": [
       "Sex\n",
       "male      577\n",
       "female    314\n",
       "Name: count, dtype: int64"
      ]
     },
     "execution_count": 341,
     "metadata": {},
     "output_type": "execute_result"
    }
   ],
   "source": [
    "# Verificando os valores na coluna Sex\n",
    "treino.Sex.value_counts()"
   ]
  },
  {
   "cell_type": "code",
   "execution_count": 342,
   "id": "1c35b70e",
   "metadata": {},
   "outputs": [
    {
     "data": {
      "text/plain": [
       "Embarked\n",
       "S    646\n",
       "C    168\n",
       "Q     77\n",
       "Name: count, dtype: int64"
      ]
     },
     "execution_count": 342,
     "metadata": {},
     "output_type": "execute_result"
    }
   ],
   "source": [
    "# e na coluna Embarked\n",
    "treino.Embarked.value_counts()"
   ]
  },
  {
   "attachments": {},
   "cell_type": "markdown",
   "id": "95aec76f",
   "metadata": {},
   "source": [
    "- Para tratar a coluna Sex, podemos criar uma nova coluna chamada **\"Male_Check\"** que **vai receber 1 se o gênero for masculino e 0 se o gênero for feminino**"
   ]
  },
  {
   "cell_type": "code",
   "execution_count": 343,
   "id": "9ef39208",
   "metadata": {},
   "outputs": [],
   "source": [
    "# Usando uma lambda function para fazer esse tratamento\n",
    "treino['Male_check'] = treino.Sex.apply(lambda x: 1 if x == 'male' else 0) "
   ]
  },
  {
   "cell_type": "code",
   "execution_count": 344,
   "id": "ee525036",
   "metadata": {},
   "outputs": [
    {
     "data": {
      "text/plain": [
       "Sex     Male_check\n",
       "male    1             577\n",
       "female  0             314\n",
       "Name: count, dtype: int64"
      ]
     },
     "execution_count": 344,
     "metadata": {},
     "output_type": "execute_result"
    }
   ],
   "source": [
    "# Verificando os valores\n",
    "treino[['Sex','Male_check']].value_counts()"
   ]
  },
  {
   "attachments": {},
   "cell_type": "markdown",
   "id": "4b131965",
   "metadata": {},
   "source": [
    "- O próximo passo é fazer o mesmo para a base de teste"
   ]
  },
  {
   "cell_type": "code",
   "execution_count": 345,
   "id": "e6c305d7",
   "metadata": {},
   "outputs": [],
   "source": [
    "# Usando uma lambda function para fazer esse tratamento\n",
    "teste['Male_check'] = teste.Sex.apply(lambda x: 1 if x == 'male' else 0) "
   ]
  },
  {
   "cell_type": "code",
   "execution_count": 346,
   "id": "e2aa3710",
   "metadata": {},
   "outputs": [
    {
     "data": {
      "text/plain": [
       "Sex     Male_check\n",
       "male    1             266\n",
       "female  0             152\n",
       "Name: count, dtype: int64"
      ]
     },
     "execution_count": 346,
     "metadata": {},
     "output_type": "execute_result"
    }
   ],
   "source": [
    "# Verificando os valores\n",
    "teste[['Sex','Male_check']].value_counts()"
   ]
  },
  {
   "attachments": {},
   "cell_type": "markdown",
   "id": "4f6a080a",
   "metadata": {},
   "source": [
    "- Agora, para tratar a coluna **Embarked** usando o **[OneHotEncoder](https://scikit-learn.org/stable/modules/generated/sklearn.preprocessing.OneHotEncoder.html)** que irá **criar uma nova coluna para cada um dos rótulos da coluna original**"
   ]
  },
  {
   "cell_type": "code",
   "execution_count": 347,
   "id": "8b9ce911",
   "metadata": {},
   "outputs": [],
   "source": [
    "# Importando o OneHotEncoder\n",
    "from sklearn.preprocessing import OneHotEncoder"
   ]
  },
  {
   "cell_type": "code",
   "execution_count": 348,
   "id": "c7948f5f",
   "metadata": {},
   "outputs": [],
   "source": [
    "# Criando o encoder\n",
    "enc = OneHotEncoder(handle_unknown='ignore', dtype='int32')"
   ]
  },
  {
   "cell_type": "code",
   "execution_count": 349,
   "id": "39cfa842",
   "metadata": {},
   "outputs": [
    {
     "data": {
      "text/html": [
       "<style>#sk-container-id-9 {color: black;background-color: white;}#sk-container-id-9 pre{padding: 0;}#sk-container-id-9 div.sk-toggleable {background-color: white;}#sk-container-id-9 label.sk-toggleable__label {cursor: pointer;display: block;width: 100%;margin-bottom: 0;padding: 0.3em;box-sizing: border-box;text-align: center;}#sk-container-id-9 label.sk-toggleable__label-arrow:before {content: \"▸\";float: left;margin-right: 0.25em;color: #696969;}#sk-container-id-9 label.sk-toggleable__label-arrow:hover:before {color: black;}#sk-container-id-9 div.sk-estimator:hover label.sk-toggleable__label-arrow:before {color: black;}#sk-container-id-9 div.sk-toggleable__content {max-height: 0;max-width: 0;overflow: hidden;text-align: left;background-color: #f0f8ff;}#sk-container-id-9 div.sk-toggleable__content pre {margin: 0.2em;color: black;border-radius: 0.25em;background-color: #f0f8ff;}#sk-container-id-9 input.sk-toggleable__control:checked~div.sk-toggleable__content {max-height: 200px;max-width: 100%;overflow: auto;}#sk-container-id-9 input.sk-toggleable__control:checked~label.sk-toggleable__label-arrow:before {content: \"▾\";}#sk-container-id-9 div.sk-estimator input.sk-toggleable__control:checked~label.sk-toggleable__label {background-color: #d4ebff;}#sk-container-id-9 div.sk-label input.sk-toggleable__control:checked~label.sk-toggleable__label {background-color: #d4ebff;}#sk-container-id-9 input.sk-hidden--visually {border: 0;clip: rect(1px 1px 1px 1px);clip: rect(1px, 1px, 1px, 1px);height: 1px;margin: -1px;overflow: hidden;padding: 0;position: absolute;width: 1px;}#sk-container-id-9 div.sk-estimator {font-family: monospace;background-color: #f0f8ff;border: 1px dotted black;border-radius: 0.25em;box-sizing: border-box;margin-bottom: 0.5em;}#sk-container-id-9 div.sk-estimator:hover {background-color: #d4ebff;}#sk-container-id-9 div.sk-parallel-item::after {content: \"\";width: 100%;border-bottom: 1px solid gray;flex-grow: 1;}#sk-container-id-9 div.sk-label:hover label.sk-toggleable__label {background-color: #d4ebff;}#sk-container-id-9 div.sk-serial::before {content: \"\";position: absolute;border-left: 1px solid gray;box-sizing: border-box;top: 0;bottom: 0;left: 50%;z-index: 0;}#sk-container-id-9 div.sk-serial {display: flex;flex-direction: column;align-items: center;background-color: white;padding-right: 0.2em;padding-left: 0.2em;position: relative;}#sk-container-id-9 div.sk-item {position: relative;z-index: 1;}#sk-container-id-9 div.sk-parallel {display: flex;align-items: stretch;justify-content: center;background-color: white;position: relative;}#sk-container-id-9 div.sk-item::before, #sk-container-id-9 div.sk-parallel-item::before {content: \"\";position: absolute;border-left: 1px solid gray;box-sizing: border-box;top: 0;bottom: 0;left: 50%;z-index: -1;}#sk-container-id-9 div.sk-parallel-item {display: flex;flex-direction: column;z-index: 1;position: relative;background-color: white;}#sk-container-id-9 div.sk-parallel-item:first-child::after {align-self: flex-end;width: 50%;}#sk-container-id-9 div.sk-parallel-item:last-child::after {align-self: flex-start;width: 50%;}#sk-container-id-9 div.sk-parallel-item:only-child::after {width: 0;}#sk-container-id-9 div.sk-dashed-wrapped {border: 1px dashed gray;margin: 0 0.4em 0.5em 0.4em;box-sizing: border-box;padding-bottom: 0.4em;background-color: white;}#sk-container-id-9 div.sk-label label {font-family: monospace;font-weight: bold;display: inline-block;line-height: 1.2em;}#sk-container-id-9 div.sk-label-container {text-align: center;}#sk-container-id-9 div.sk-container {/* jupyter's `normalize.less` sets `[hidden] { display: none; }` but bootstrap.min.css set `[hidden] { display: none !important; }` so we also need the `!important` here to be able to override the default hidden behavior on the sphinx rendered scikit-learn.org. See: https://github.com/scikit-learn/scikit-learn/issues/21755 */display: inline-block !important;position: relative;}#sk-container-id-9 div.sk-text-repr-fallback {display: none;}</style><div id=\"sk-container-id-9\" class=\"sk-top-container\"><div class=\"sk-text-repr-fallback\"><pre>OneHotEncoder(dtype=&#x27;int32&#x27;, handle_unknown=&#x27;ignore&#x27;)</pre><b>In a Jupyter environment, please rerun this cell to show the HTML representation or trust the notebook. <br />On GitHub, the HTML representation is unable to render, please try loading this page with nbviewer.org.</b></div><div class=\"sk-container\" hidden><div class=\"sk-item\"><div class=\"sk-estimator sk-toggleable\"><input class=\"sk-toggleable__control sk-hidden--visually\" id=\"sk-estimator-id-9\" type=\"checkbox\" checked><label for=\"sk-estimator-id-9\" class=\"sk-toggleable__label sk-toggleable__label-arrow\">OneHotEncoder</label><div class=\"sk-toggleable__content\"><pre>OneHotEncoder(dtype=&#x27;int32&#x27;, handle_unknown=&#x27;ignore&#x27;)</pre></div></div></div></div></div>"
      ],
      "text/plain": [
       "OneHotEncoder(dtype='int32', handle_unknown='ignore')"
      ]
     },
     "execution_count": 349,
     "metadata": {},
     "output_type": "execute_result"
    }
   ],
   "source": [
    "# Fazendo o fit com os dados\n",
    "enc.fit(treino[['Embarked']])"
   ]
  },
  {
   "cell_type": "code",
   "execution_count": 350,
   "id": "3f7d2a74",
   "metadata": {},
   "outputs": [
    {
     "data": {
      "text/plain": [
       "array([[0, 0, 1],\n",
       "       [1, 0, 0],\n",
       "       [0, 0, 1],\n",
       "       ...,\n",
       "       [0, 0, 1],\n",
       "       [1, 0, 0],\n",
       "       [0, 1, 0]])"
      ]
     },
     "execution_count": 350,
     "metadata": {},
     "output_type": "execute_result"
    }
   ],
   "source": [
    "# Fazendo a transformação\n",
    "enc.transform(treino[['Embarked']]).toarray()"
   ]
  },
  {
   "cell_type": "code",
   "execution_count": 351,
   "id": "413d1add",
   "metadata": {},
   "outputs": [],
   "source": [
    "# Transformando esse resultado em um DataFrame\n",
    "enc_df = pd.DataFrame(data= enc.transform(treino[['Embarked']]).toarray(), columns=enc.get_feature_names_out())"
   ]
  },
  {
   "cell_type": "code",
   "execution_count": 352,
   "id": "766de833",
   "metadata": {},
   "outputs": [],
   "source": [
    "# Podemos agora adicionar essa coluna na nossa base de teste\n",
    "treino = pd.concat([treino, enc_df], axis=1)"
   ]
  },
  {
   "cell_type": "code",
   "execution_count": 353,
   "id": "c04b67b7",
   "metadata": {},
   "outputs": [
    {
     "data": {
      "text/plain": [
       "Embarked  Embarked_C  Embarked_Q  Embarked_S\n",
       "S         0           0           1             646\n",
       "C         1           0           0             168\n",
       "Q         0           1           0              77\n",
       "Name: count, dtype: int64"
      ]
     },
     "execution_count": 353,
     "metadata": {},
     "output_type": "execute_result"
    }
   ],
   "source": [
    "# Verificando os valores\n",
    "treino[['Embarked','Embarked_C','Embarked_Q','Embarked_S']].value_counts()"
   ]
  },
  {
   "attachments": {},
   "cell_type": "markdown",
   "id": "a5f5764c",
   "metadata": {},
   "source": [
    "- Agora vamos **fazer o mesmo para a base de teste usando o encoder ohe que criamos acima**"
   ]
  },
  {
   "cell_type": "code",
   "execution_count": 354,
   "id": "9fa70517",
   "metadata": {},
   "outputs": [],
   "source": [
    "# Transformando esse resultado em um DataFrame\n",
    "enc_test = pd.DataFrame(data= enc.transform(teste[['Embarked']]).toarray(), columns=enc.get_feature_names_out())"
   ]
  },
  {
   "cell_type": "code",
   "execution_count": 355,
   "id": "664c0ba6",
   "metadata": {},
   "outputs": [],
   "source": [
    "# Adicionando o resultado na base de teste\n",
    "teste = pd.concat([teste, enc_test], axis=1)"
   ]
  },
  {
   "cell_type": "code",
   "execution_count": 356,
   "id": "1c8f36e0",
   "metadata": {},
   "outputs": [
    {
     "data": {
      "text/plain": [
       "Embarked  Embarked_C  Embarked_Q  Embarked_S\n",
       "S         0           0           1             270\n",
       "C         1           0           0             102\n",
       "Q         0           1           0              46\n",
       "Name: count, dtype: int64"
      ]
     },
     "execution_count": 356,
     "metadata": {},
     "output_type": "execute_result"
    }
   ],
   "source": [
    "# Verificando também os valores\n",
    "teste[['Embarked','Embarked_C','Embarked_Q','Embarked_S']].value_counts()"
   ]
  },
  {
   "attachments": {},
   "cell_type": "markdown",
   "id": "6795fb4c",
   "metadata": {},
   "source": [
    "### Usando essa nova base no modelo"
   ]
  },
  {
   "cell_type": "code",
   "execution_count": 357,
   "id": "51d5ea38",
   "metadata": {},
   "outputs": [
    {
     "data": {
      "text/html": [
       "<div>\n",
       "<style scoped>\n",
       "    .dataframe tbody tr th:only-of-type {\n",
       "        vertical-align: middle;\n",
       "    }\n",
       "\n",
       "    .dataframe tbody tr th {\n",
       "        vertical-align: top;\n",
       "    }\n",
       "\n",
       "    .dataframe thead th {\n",
       "        text-align: right;\n",
       "    }\n",
       "</style>\n",
       "<table border=\"1\" class=\"dataframe\">\n",
       "  <thead>\n",
       "    <tr style=\"text-align: right;\">\n",
       "      <th></th>\n",
       "      <th>PassengerId</th>\n",
       "      <th>Survived</th>\n",
       "      <th>Pclass</th>\n",
       "      <th>Sex</th>\n",
       "      <th>Age</th>\n",
       "      <th>SibSp</th>\n",
       "      <th>Parch</th>\n",
       "      <th>Fare</th>\n",
       "      <th>Embarked</th>\n",
       "      <th>Male_check</th>\n",
       "      <th>Embarked_C</th>\n",
       "      <th>Embarked_Q</th>\n",
       "      <th>Embarked_S</th>\n",
       "    </tr>\n",
       "  </thead>\n",
       "  <tbody>\n",
       "    <tr>\n",
       "      <th>0</th>\n",
       "      <td>1</td>\n",
       "      <td>0</td>\n",
       "      <td>3</td>\n",
       "      <td>male</td>\n",
       "      <td>22.0</td>\n",
       "      <td>1</td>\n",
       "      <td>0</td>\n",
       "      <td>7.2500</td>\n",
       "      <td>S</td>\n",
       "      <td>1</td>\n",
       "      <td>0</td>\n",
       "      <td>0</td>\n",
       "      <td>1</td>\n",
       "    </tr>\n",
       "    <tr>\n",
       "      <th>1</th>\n",
       "      <td>2</td>\n",
       "      <td>1</td>\n",
       "      <td>1</td>\n",
       "      <td>female</td>\n",
       "      <td>38.0</td>\n",
       "      <td>1</td>\n",
       "      <td>0</td>\n",
       "      <td>71.2833</td>\n",
       "      <td>C</td>\n",
       "      <td>0</td>\n",
       "      <td>1</td>\n",
       "      <td>0</td>\n",
       "      <td>0</td>\n",
       "    </tr>\n",
       "    <tr>\n",
       "      <th>2</th>\n",
       "      <td>3</td>\n",
       "      <td>1</td>\n",
       "      <td>3</td>\n",
       "      <td>female</td>\n",
       "      <td>26.0</td>\n",
       "      <td>0</td>\n",
       "      <td>0</td>\n",
       "      <td>7.9250</td>\n",
       "      <td>S</td>\n",
       "      <td>0</td>\n",
       "      <td>0</td>\n",
       "      <td>0</td>\n",
       "      <td>1</td>\n",
       "    </tr>\n",
       "  </tbody>\n",
       "</table>\n",
       "</div>"
      ],
      "text/plain": [
       "   PassengerId  Survived  Pclass     Sex   Age  SibSp  Parch     Fare  \\\n",
       "0            1         0       3    male  22.0      1      0   7.2500   \n",
       "1            2         1       1  female  38.0      1      0  71.2833   \n",
       "2            3         1       3  female  26.0      0      0   7.9250   \n",
       "\n",
       "  Embarked  Male_check  Embarked_C  Embarked_Q  Embarked_S  \n",
       "0        S           1           0           0           1  \n",
       "1        C           0           1           0           0  \n",
       "2        S           0           0           0           1  "
      ]
     },
     "execution_count": 357,
     "metadata": {},
     "output_type": "execute_result"
    }
   ],
   "source": [
    "# Visualizando a base\n",
    "treino.head(3)"
   ]
  },
  {
   "cell_type": "code",
   "execution_count": 358,
   "id": "1ff56674",
   "metadata": {},
   "outputs": [],
   "source": [
    "# Podemos então apagar essas duas colunas que já tratamos\n",
    "treino = treino.drop(['Sex', 'Embarked'], axis=1)\n",
    "teste = teste.drop(['Sex', 'Embarked'], axis=1)"
   ]
  },
  {
   "attachments": {},
   "cell_type": "markdown",
   "id": "7a7c3c7f",
   "metadata": {},
   "source": [
    "- Podemos selecionar os mesmos modelos que vimos anteriormente (consulte arquivo da **[parte 1](https://github.com/lucaslealx/Titanic/blob/main/Parte1.ipynb)**)\n",
    "    - **Árvore de classificação**\n",
    "        - https://scikit-learn.org/stable/modules/tree.html#classification\n",
    "    - **Classificação dos vizinhos mais próximos**\n",
    "        - https://scikit-learn.org/stable/modules/generated/sklearn.neighbors.KNeighborsClassifier.html#sklearn.neighbors.KNeighborsClassifier\n",
    "    - **Regressão Logística**\n",
    "        - https://scikit-learn.org/stable/modules/generated/sklearn.linear_model.LogisticRegression.html#sklearn.linear_model.LogisticRegression\n",
    "- Antes de usar os algoritmos, precisamos separar a base de treino em **treino e validação**\n",
    "    - Vamos fazer isso utilizando o **train_test_split**\n",
    "        - https://scikit-learn.org/stable/modules/generated/sklearn.model_selection.train_test_split.html"
   ]
  },
  {
   "cell_type": "code",
   "execution_count": 359,
   "id": "36f0b066",
   "metadata": {},
   "outputs": [],
   "source": [
    "# Importando o train_test_split\n",
    "from sklearn.model_selection import train_test_split"
   ]
  },
  {
   "cell_type": "code",
   "execution_count": 360,
   "id": "9110b1f4",
   "metadata": {},
   "outputs": [],
   "source": [
    "# Separando a base de treino em X e y\n",
    "X = treino.drop(['PassengerId','Survived'],axis=1)\n",
    "y = treino.Survived"
   ]
  },
  {
   "cell_type": "code",
   "execution_count": 361,
   "id": "7540d766",
   "metadata": {},
   "outputs": [],
   "source": [
    "# Separando em treino e validação\n",
    "X_train, X_val, y_train, y_val = train_test_split(X, y, test_size=0.33, random_state=42)"
   ]
  },
  {
   "attachments": {},
   "cell_type": "markdown",
   "id": "6a6433c0",
   "metadata": {},
   "source": [
    "- Para a **árvore de classificação**"
   ]
  },
  {
   "cell_type": "code",
   "execution_count": 362,
   "id": "ca0ea325",
   "metadata": {},
   "outputs": [],
   "source": [
    "# Fazendo a importação\n",
    "from sklearn import tree"
   ]
  },
  {
   "cell_type": "code",
   "execution_count": 363,
   "id": "23f96bbb",
   "metadata": {},
   "outputs": [],
   "source": [
    "# Criando o classificador\n",
    "clf_ac = tree.DecisionTreeClassifier(random_state=42)"
   ]
  },
  {
   "cell_type": "code",
   "execution_count": 364,
   "id": "0be23ba5",
   "metadata": {},
   "outputs": [],
   "source": [
    "# Fazendo o fit com os dados\n",
    "clf_ac = clf_ac.fit(X_train,y_train)"
   ]
  },
  {
   "cell_type": "code",
   "execution_count": 365,
   "id": "620fd26d",
   "metadata": {},
   "outputs": [],
   "source": [
    "# Fazendo a previsão\n",
    "y_pred_ac = clf_ac.predict(X_val)"
   ]
  },
  {
   "attachments": {},
   "cell_type": "markdown",
   "id": "860e0bc0",
   "metadata": {},
   "source": [
    "- Para o **KNeighborsClassifier**"
   ]
  },
  {
   "cell_type": "code",
   "execution_count": 366,
   "id": "4d54247f",
   "metadata": {},
   "outputs": [],
   "source": [
    "# Importando\n",
    "from sklearn.neighbors import KNeighborsClassifier"
   ]
  },
  {
   "cell_type": "code",
   "execution_count": 367,
   "id": "a5b0532d",
   "metadata": {},
   "outputs": [],
   "source": [
    "# Criando o classificador\n",
    "clf_knn = KNeighborsClassifier(n_neighbors=3)"
   ]
  },
  {
   "cell_type": "code",
   "execution_count": 368,
   "id": "f7093f72",
   "metadata": {},
   "outputs": [],
   "source": [
    "# Fazendo o fit com os dados\n",
    "clf_knn = clf_knn.fit(X_train,y_train)"
   ]
  },
  {
   "cell_type": "code",
   "execution_count": 369,
   "id": "0b62e22f",
   "metadata": {},
   "outputs": [],
   "source": [
    "# Fazendo a previsão\n",
    "y_pred_knn = clf_knn.predict(X_val)"
   ]
  },
  {
   "attachments": {},
   "cell_type": "markdown",
   "id": "d7a681fb",
   "metadata": {},
   "source": [
    "- E para a **Regressão Logística**"
   ]
  },
  {
   "cell_type": "code",
   "execution_count": 370,
   "id": "acdb8597",
   "metadata": {},
   "outputs": [],
   "source": [
    "# Importando\n",
    "from sklearn.linear_model import LogisticRegression"
   ]
  },
  {
   "cell_type": "code",
   "execution_count": 371,
   "id": "57a895ac",
   "metadata": {},
   "outputs": [],
   "source": [
    "# Criando o classificador\n",
    "clf_rl = LogisticRegression(random_state=42,max_iter=1000)"
   ]
  },
  {
   "cell_type": "code",
   "execution_count": 372,
   "id": "a86ac3c4",
   "metadata": {},
   "outputs": [],
   "source": [
    "# Fazendo o fit com os dados\n",
    "clf_rl = clf_rl.fit(X_train,y_train)"
   ]
  },
  {
   "cell_type": "code",
   "execution_count": 373,
   "id": "4fd3c698",
   "metadata": {},
   "outputs": [],
   "source": [
    "# Fazendo a previsão\n",
    "y_pred_rl = clf_rl.predict(X_val)"
   ]
  },
  {
   "attachments": {},
   "cell_type": "markdown",
   "id": "d76a8036",
   "metadata": {},
   "source": [
    "- Vamos novamente **avaliar os modelos**\n",
    "    - Acurácia (método de avaliação usado na competição):\n",
    "        - https://scikit-learn.org/stable/modules/generated/sklearn.metrics.accuracy_score.html\n",
    "    - Matriz de confusão (ajuda a visualizar a distribuição dos erros):\n",
    "        - https://scikit-learn.org/stable/modules/generated/sklearn.metrics.confusion_matrix.html"
   ]
  },
  {
   "attachments": {},
   "cell_type": "markdown",
   "id": "bf694913",
   "metadata": {},
   "source": [
    "- Avaliando a **acurácia**"
   ]
  },
  {
   "cell_type": "code",
   "execution_count": 374,
   "id": "02fbd240",
   "metadata": {},
   "outputs": [],
   "source": [
    "# Importando\n",
    "from sklearn.metrics import accuracy_score"
   ]
  },
  {
   "cell_type": "code",
   "execution_count": 375,
   "id": "708543cc",
   "metadata": {},
   "outputs": [
    {
     "data": {
      "text/plain": [
       "0.7491525423728813"
      ]
     },
     "execution_count": 375,
     "metadata": {},
     "output_type": "execute_result"
    }
   ],
   "source": [
    "# Para a árvore\n",
    "accuracy_score(y_val, y_pred_ac)"
   ]
  },
  {
   "cell_type": "code",
   "execution_count": 376,
   "id": "e38b7270",
   "metadata": {},
   "outputs": [
    {
     "data": {
      "text/plain": [
       "0.7152542372881356"
      ]
     },
     "execution_count": 376,
     "metadata": {},
     "output_type": "execute_result"
    }
   ],
   "source": [
    "# Para o knn\n",
    "accuracy_score(y_val, y_pred_knn)"
   ]
  },
  {
   "cell_type": "code",
   "execution_count": 377,
   "id": "446439ae",
   "metadata": {},
   "outputs": [
    {
     "data": {
      "text/plain": [
       "0.8169491525423729"
      ]
     },
     "execution_count": 377,
     "metadata": {},
     "output_type": "execute_result"
    }
   ],
   "source": [
    "# Para a regressão logística\n",
    "accuracy_score(y_val, y_pred_rl)"
   ]
  },
  {
   "attachments": {},
   "cell_type": "markdown",
   "id": "86e8e994",
   "metadata": {},
   "source": [
    "- Avaliando a **matriz de confusão**"
   ]
  },
  {
   "cell_type": "code",
   "execution_count": 378,
   "id": "d8265dc0",
   "metadata": {},
   "outputs": [],
   "source": [
    "# Importando\n",
    "from sklearn.metrics import confusion_matrix"
   ]
  },
  {
   "cell_type": "code",
   "execution_count": 379,
   "id": "9f7278ae",
   "metadata": {},
   "outputs": [
    {
     "data": {
      "text/plain": [
       "array([[138,  37],\n",
       "       [ 37,  83]], dtype=int64)"
      ]
     },
     "execution_count": 379,
     "metadata": {},
     "output_type": "execute_result"
    }
   ],
   "source": [
    "# Para a árvore\n",
    "confusion_matrix(y_val, y_pred_ac)"
   ]
  },
  {
   "cell_type": "code",
   "execution_count": 380,
   "id": "b4e9c36a",
   "metadata": {},
   "outputs": [
    {
     "data": {
      "text/plain": [
       "array([[147,  28],\n",
       "       [ 56,  64]], dtype=int64)"
      ]
     },
     "execution_count": 380,
     "metadata": {},
     "output_type": "execute_result"
    }
   ],
   "source": [
    "# Para o knn\n",
    "confusion_matrix(y_val, y_pred_knn)"
   ]
  },
  {
   "cell_type": "code",
   "execution_count": 381,
   "id": "4edc78f2",
   "metadata": {},
   "outputs": [
    {
     "data": {
      "text/plain": [
       "array([[153,  22],\n",
       "       [ 32,  88]], dtype=int64)"
      ]
     },
     "execution_count": 381,
     "metadata": {},
     "output_type": "execute_result"
    }
   ],
   "source": [
    "# Para a regressão logística\n",
    "confusion_matrix(y_val, y_pred_rl)"
   ]
  },
  {
   "attachments": {},
   "cell_type": "markdown",
   "id": "4656b058",
   "metadata": {},
   "source": [
    "### Fazendo a previsão para os dados de teste\n",
    "- Vamos usar o modelo com melhor precisão para fazer o predict na base de teste"
   ]
  },
  {
   "cell_type": "code",
   "execution_count": 382,
   "id": "d316d0f3",
   "metadata": {},
   "outputs": [
    {
     "data": {
      "text/html": [
       "<div>\n",
       "<style scoped>\n",
       "    .dataframe tbody tr th:only-of-type {\n",
       "        vertical-align: middle;\n",
       "    }\n",
       "\n",
       "    .dataframe tbody tr th {\n",
       "        vertical-align: top;\n",
       "    }\n",
       "\n",
       "    .dataframe thead th {\n",
       "        text-align: right;\n",
       "    }\n",
       "</style>\n",
       "<table border=\"1\" class=\"dataframe\">\n",
       "  <thead>\n",
       "    <tr style=\"text-align: right;\">\n",
       "      <th></th>\n",
       "      <th>Pclass</th>\n",
       "      <th>Age</th>\n",
       "      <th>SibSp</th>\n",
       "      <th>Parch</th>\n",
       "      <th>Fare</th>\n",
       "      <th>Male_check</th>\n",
       "      <th>Embarked_C</th>\n",
       "      <th>Embarked_Q</th>\n",
       "      <th>Embarked_S</th>\n",
       "    </tr>\n",
       "  </thead>\n",
       "  <tbody>\n",
       "    <tr>\n",
       "      <th>6</th>\n",
       "      <td>1</td>\n",
       "      <td>54.000000</td>\n",
       "      <td>0</td>\n",
       "      <td>0</td>\n",
       "      <td>51.8625</td>\n",
       "      <td>1</td>\n",
       "      <td>0</td>\n",
       "      <td>0</td>\n",
       "      <td>1</td>\n",
       "    </tr>\n",
       "    <tr>\n",
       "      <th>718</th>\n",
       "      <td>3</td>\n",
       "      <td>29.699118</td>\n",
       "      <td>0</td>\n",
       "      <td>0</td>\n",
       "      <td>15.5000</td>\n",
       "      <td>1</td>\n",
       "      <td>0</td>\n",
       "      <td>1</td>\n",
       "      <td>0</td>\n",
       "    </tr>\n",
       "    <tr>\n",
       "      <th>685</th>\n",
       "      <td>2</td>\n",
       "      <td>25.000000</td>\n",
       "      <td>1</td>\n",
       "      <td>2</td>\n",
       "      <td>41.5792</td>\n",
       "      <td>1</td>\n",
       "      <td>1</td>\n",
       "      <td>0</td>\n",
       "      <td>0</td>\n",
       "    </tr>\n",
       "  </tbody>\n",
       "</table>\n",
       "</div>"
      ],
      "text/plain": [
       "     Pclass        Age  SibSp  Parch     Fare  Male_check  Embarked_C  \\\n",
       "6         1  54.000000      0      0  51.8625           1           0   \n",
       "718       3  29.699118      0      0  15.5000           1           0   \n",
       "685       2  25.000000      1      2  41.5792           1           1   \n",
       "\n",
       "     Embarked_Q  Embarked_S  \n",
       "6             0           1  \n",
       "718           1           0  \n",
       "685           0           0  "
      ]
     },
     "execution_count": 382,
     "metadata": {},
     "output_type": "execute_result"
    }
   ],
   "source": [
    "# Visualizando o X_train\n",
    "X_train.head(3)"
   ]
  },
  {
   "cell_type": "code",
   "execution_count": 383,
   "id": "b97efd5c",
   "metadata": {},
   "outputs": [
    {
     "data": {
      "text/html": [
       "<div>\n",
       "<style scoped>\n",
       "    .dataframe tbody tr th:only-of-type {\n",
       "        vertical-align: middle;\n",
       "    }\n",
       "\n",
       "    .dataframe tbody tr th {\n",
       "        vertical-align: top;\n",
       "    }\n",
       "\n",
       "    .dataframe thead th {\n",
       "        text-align: right;\n",
       "    }\n",
       "</style>\n",
       "<table border=\"1\" class=\"dataframe\">\n",
       "  <thead>\n",
       "    <tr style=\"text-align: right;\">\n",
       "      <th></th>\n",
       "      <th>PassengerId</th>\n",
       "      <th>Pclass</th>\n",
       "      <th>Age</th>\n",
       "      <th>SibSp</th>\n",
       "      <th>Parch</th>\n",
       "      <th>Fare</th>\n",
       "      <th>Male_check</th>\n",
       "      <th>Embarked_C</th>\n",
       "      <th>Embarked_Q</th>\n",
       "      <th>Embarked_S</th>\n",
       "    </tr>\n",
       "  </thead>\n",
       "  <tbody>\n",
       "    <tr>\n",
       "      <th>0</th>\n",
       "      <td>892</td>\n",
       "      <td>3</td>\n",
       "      <td>34.5</td>\n",
       "      <td>0</td>\n",
       "      <td>0</td>\n",
       "      <td>7.8292</td>\n",
       "      <td>1</td>\n",
       "      <td>0</td>\n",
       "      <td>1</td>\n",
       "      <td>0</td>\n",
       "    </tr>\n",
       "    <tr>\n",
       "      <th>1</th>\n",
       "      <td>893</td>\n",
       "      <td>3</td>\n",
       "      <td>47.0</td>\n",
       "      <td>1</td>\n",
       "      <td>0</td>\n",
       "      <td>7.0000</td>\n",
       "      <td>0</td>\n",
       "      <td>0</td>\n",
       "      <td>0</td>\n",
       "      <td>1</td>\n",
       "    </tr>\n",
       "    <tr>\n",
       "      <th>2</th>\n",
       "      <td>894</td>\n",
       "      <td>2</td>\n",
       "      <td>62.0</td>\n",
       "      <td>0</td>\n",
       "      <td>0</td>\n",
       "      <td>9.6875</td>\n",
       "      <td>1</td>\n",
       "      <td>0</td>\n",
       "      <td>1</td>\n",
       "      <td>0</td>\n",
       "    </tr>\n",
       "  </tbody>\n",
       "</table>\n",
       "</div>"
      ],
      "text/plain": [
       "   PassengerId  Pclass   Age  SibSp  Parch    Fare  Male_check  Embarked_C  \\\n",
       "0          892       3  34.5      0      0  7.8292           1           0   \n",
       "1          893       3  47.0      1      0  7.0000           0           0   \n",
       "2          894       2  62.0      0      0  9.6875           1           0   \n",
       "\n",
       "   Embarked_Q  Embarked_S  \n",
       "0           1           0  \n",
       "1           0           1  \n",
       "2           1           0  "
      ]
     },
     "execution_count": 383,
     "metadata": {},
     "output_type": "execute_result"
    }
   ],
   "source": [
    "# Visualizando a base de teste\n",
    "teste.head(3)"
   ]
  },
  {
   "cell_type": "code",
   "execution_count": 384,
   "id": "e34f5ff4",
   "metadata": {},
   "outputs": [],
   "source": [
    "# Para a base de teste ser igual a base de treino, precisamos eliminar a coluna de id\n",
    "X_teste = teste.drop('PassengerId', axis=1)"
   ]
  },
  {
   "cell_type": "code",
   "execution_count": 385,
   "id": "f0497a13",
   "metadata": {},
   "outputs": [],
   "source": [
    "# Utilizando a regressão logística na base de teste\n",
    "y_pred = clf_rl.predict(X_teste)"
   ]
  },
  {
   "cell_type": "code",
   "execution_count": 386,
   "id": "08fffa82",
   "metadata": {},
   "outputs": [],
   "source": [
    "# Criando uma nova coluna com a previsão na base de teste\n",
    "teste['Survived'] = y_pred"
   ]
  },
  {
   "cell_type": "code",
   "execution_count": 390,
   "id": "8b1fb599",
   "metadata": {},
   "outputs": [],
   "source": [
    "# Selecionando apenas a coluna de Id e Survived para fazer o envio\n",
    "teste_envio = teste[['PassengerId','Survived']]"
   ]
  },
  {
   "cell_type": "code",
   "execution_count": 391,
   "id": "2965c544",
   "metadata": {},
   "outputs": [],
   "source": [
    "# Exportando para um csv\n",
    "teste_envio.to_csv('resultados2.csv', index=False)"
   ]
  }
 ],
 "metadata": {
  "kernelspec": {
   "display_name": "Python 3 (ipykernel)",
   "language": "python",
   "name": "python3"
  },
  "language_info": {
   "codemirror_mode": {
    "name": "ipython",
    "version": 3
   },
   "file_extension": ".py",
   "mimetype": "text/x-python",
   "name": "python",
   "nbconvert_exporter": "python",
   "pygments_lexer": "ipython3",
   "version": "3.11.3"
  }
 },
 "nbformat": 4,
 "nbformat_minor": 5
}
